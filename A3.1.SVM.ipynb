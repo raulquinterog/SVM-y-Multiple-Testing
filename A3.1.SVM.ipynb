{
  "nbformat": 4,
  "nbformat_minor": 0,
  "metadata": {
    "colab": {
      "provenance": []
    },
    "kernelspec": {
      "name": "python3",
      "display_name": "Python 3"
    },
    "language_info": {
      "name": "python"
    }
  },
  "cells": [
    {
      "cell_type": "markdown",
      "source": [
        "### Paso 1: Análisis preliminar de los datos y diferencia de medias\n",
        "\n",
        "En esta primera parte, se importan los datos contenidos en el archivo `A3.1 Khan.csv`, el cual contiene información de expresión génica para 2308 genes y una variable de clase (`y`) que indica el tipo de cáncer (valores del 1 al 4).\n",
        "\n",
        "Se revisa que no haya valores faltantes, y posteriormente se comparan las medias de expresión génica entre las clases **2 y 4**. Se calcula la diferencia de medias para cada gen, y se imprimen los **10 genes con mayor diferencia absoluta** entre estas dos clases.\n",
        "\n",
        "Este tipo de análisis puede ser útil en estudios de inferencia, ya que una gran diferencia de medias en la expresión génica entre dos tipos de cáncer podría indicar que ese gen está diferencialmente expresado, y por lo tanto podría estar relacionado con mecanismos biológicos distintos o incluso ser un posible biomarcador diagnóstico.\n"
      ],
      "metadata": {
        "id": "QJ6ZmPeiutjn"
      }
    },
    {
      "cell_type": "code",
      "execution_count": 3,
      "metadata": {
        "colab": {
          "base_uri": "https://localhost:8080/"
        },
        "id": "U6a1WckPuGHx",
        "outputId": "a3497d00-bec5-4984-8a0b-67370ea40e05"
      },
      "outputs": [
        {
          "output_type": "stream",
          "name": "stdout",
          "text": [
            "¿Hay valores faltantes? False\n",
            "Top 10 genes con mayor diferencia de medias entre clases 2 y 4:\n",
            "X187     3.323151\n",
            "X509     2.906537\n",
            "X2046    2.424515\n",
            "X2050    2.401783\n",
            "X129     2.165185\n",
            "X1645    2.065460\n",
            "X1319    2.045941\n",
            "X1955    2.037340\n",
            "X1003    2.011337\n",
            "X246     1.837830\n",
            "dtype: float64\n"
          ]
        }
      ],
      "source": [
        "import pandas as pd\n",
        "import numpy as np\n",
        "\n",
        "# Cargar los datos\n",
        "data = pd.read_csv('A3.1 Khan.csv')\n",
        "\n",
        "# Verificar si hay valores faltantes\n",
        "print(\"¿Hay valores faltantes?\", data.isnull().values.any())\n",
        "\n",
        "# Separar X (todas las columnas excepto 'y') e y (la clase)\n",
        "X = data.drop(columns=['y'])\n",
        "y = data['y']\n",
        "\n",
        "# Filtrar las clases 2 y 4\n",
        "X_2 = X[y == 2]\n",
        "X_4 = X[y == 4]\n",
        "\n",
        "# Calcular diferencia de medias\n",
        "diff_means = X_2.mean() - X_4.mean()\n",
        "top_genes = diff_means.abs().sort_values(ascending=False).head(10)\n",
        "\n",
        "# Mostrar los 10 genes con mayor diferencia de medias\n",
        "print(\"Top 10 genes con mayor diferencia de medias entre clases 2 y 4:\")\n",
        "print(top_genes)\n"
      ]
    },
    {
      "cell_type": "markdown",
      "source": [
        "### Paso 2: Pruebas t y corrección por pruebas múltiples\n",
        "\n",
        "En este paso se comparan las medias de expresión génica entre las clases 2 y 4 utilizando pruebas **t independientes** para cada uno de los genes. Como se están realizando miles de pruebas al mismo tiempo (una por gen), es necesario corregir los valores p para evitar un alto número de falsos positivos.\n",
        "\n",
        "Se utilizan tres métodos de corrección por pruebas múltiples:\n",
        "\n",
        "- **Bonferroni**: muy conservador, divide el nivel de significancia entre el número de pruebas.\n",
        "- **Holm**: también controla el error tipo I pero es menos conservador que Bonferroni.\n",
        "- **Benjamini-Hochberg (FDR)**: controla la tasa de falsos descubrimientos, más adecuado cuando se espera que muchas pruebas puedan ser significativas.\n",
        "\n",
        "Se imprimen cuántos genes resultan significativamente distintos entre las clases 2 y 4 bajo cada método, utilizando un umbral de significancia de 0.05.\n"
      ],
      "metadata": {
        "id": "fmeKfcOZvWhi"
      }
    },
    {
      "cell_type": "code",
      "source": [
        "from scipy.stats import ttest_ind\n",
        "from statsmodels.stats.multitest import multipletests\n",
        "\n",
        "# Realizar prueba t para cada gen entre clases 2 y 4\n",
        "p_values = []\n",
        "t_stats = []\n",
        "\n",
        "for gene in X.columns:\n",
        "    t_stat, p_val = ttest_ind(X_2[gene], X_4[gene], equal_var=False)\n",
        "    t_stats.append(t_stat)\n",
        "    p_values.append(p_val)\n",
        "\n",
        "# Convertir a arrays\n",
        "p_values = np.array(p_values)\n",
        "t_stats = np.array(t_stats)\n",
        "\n",
        "# Corrección de p-values\n",
        "# Bonferroni\n",
        "reject_bonf, pvals_bonf, _, _ = multipletests(p_values, alpha=0.05, method='bonferroni')\n",
        "# Holm\n",
        "reject_holm, pvals_holm, _, _ = multipletests(p_values, alpha=0.05, method='holm')\n",
        "# Benjamini-Hochberg (FDR)\n",
        "reject_bh, pvals_bh, _, _ = multipletests(p_values, alpha=0.05, method='fdr_bh')\n",
        "\n",
        "# Mostrar cuántos genes fueron significativos con cada método\n",
        "print(\"Genes significativos (Bonferroni):\", np.sum(reject_bonf))\n",
        "print(\"Genes significativos (Holm):\", np.sum(reject_holm))\n",
        "print(\"Genes significativos (Benjamini-Hochberg):\", np.sum(reject_bh))\n"
      ],
      "metadata": {
        "colab": {
          "base_uri": "https://localhost:8080/"
        },
        "id": "wn_r3VyLvXoY",
        "outputId": "0ce1389b-1d7e-4e80-c32a-497f0addfd6a"
      },
      "execution_count": 4,
      "outputs": [
        {
          "output_type": "stream",
          "name": "stdout",
          "text": [
            "Genes significativos (Bonferroni): 72\n",
            "Genes significativos (Holm): 72\n",
            "Genes significativos (Benjamini-Hochberg): 296\n"
          ]
        }
      ]
    },
    {
      "cell_type": "markdown",
      "source": [
        "### Paso 3: ANOVA para comparar expresión génica entre las 4 clases\n",
        "\n",
        "En este paso se realiza un análisis de varianza (ANOVA de un factor) para cada uno de los genes con el fin de determinar si existen diferencias significativas en la expresión génica entre las 4 clases (tipos de cáncer).\n",
        "\n",
        "Se utiliza la función `f_oneway` de `scipy.stats`, que compara las medias de varios grupos y devuelve un valor p para cada gen. Posteriormente, se aplican los mismos métodos de corrección por pruebas múltiples usados en el paso anterior:\n",
        "\n",
        "- Bonferroni\n",
        "- Holm\n",
        "- Benjamini-Hochberg (FDR)\n",
        "\n",
        "Finalmente, se reporta cuántos genes presentan diferencias estadísticamente significativas en al menos una de las clases, según cada método de corrección.\n"
      ],
      "metadata": {
        "id": "tbeNoYMpvphH"
      }
    },
    {
      "cell_type": "code",
      "source": [
        "from scipy.stats import f_oneway\n",
        "\n",
        "# Separar los datos por clase\n",
        "X_1 = X[y == 1]\n",
        "X_2 = X[y == 2]\n",
        "X_3 = X[y == 3]\n",
        "X_4 = X[y == 4]\n",
        "\n",
        "# Prueba ANOVA para cada gen\n",
        "anova_p_values = []\n",
        "\n",
        "for gene in X.columns:\n",
        "    f_stat, p_val = f_oneway(X_1[gene], X_2[gene], X_3[gene], X_4[gene])\n",
        "    anova_p_values.append(p_val)\n",
        "\n",
        "anova_p_values = np.array(anova_p_values)\n",
        "\n",
        "# Correcciones por múltiples pruebas\n",
        "reject_bonf, pvals_bonf, _, _ = multipletests(anova_p_values, alpha=0.05, method='bonferroni')\n",
        "reject_holm, pvals_holm, _, _ = multipletests(anova_p_values, alpha=0.05, method='holm')\n",
        "reject_bh, pvals_bh, _, _ = multipletests(anova_p_values, alpha=0.05, method='fdr_bh')\n",
        "\n",
        "# Mostrar cuántos genes fueron significativos\n",
        "print(\"Genes significativos (Bonferroni):\", np.sum(reject_bonf))\n",
        "print(\"Genes significativos (Holm):\", np.sum(reject_holm))\n",
        "print(\"Genes significativos (Benjamini-Hochberg):\", np.sum(reject_bh))\n"
      ],
      "metadata": {
        "colab": {
          "base_uri": "https://localhost:8080/"
        },
        "id": "_bW7f0rivojt",
        "outputId": "3731a34e-4192-4971-a211-cba98194ac1d"
      },
      "execution_count": 5,
      "outputs": [
        {
          "output_type": "stream",
          "name": "stdout",
          "text": [
            "Genes significativos (Bonferroni): 404\n",
            "Genes significativos (Holm): 412\n",
            "Genes significativos (Benjamini-Hochberg): 1162\n"
          ]
        }
      ]
    },
    {
      "cell_type": "markdown",
      "source": [
        "### Paso 4: Modelos SVM con distintos kernels\n",
        "\n",
        "En este paso se entrenan modelos de Máquinas de Vectores de Soporte (SVM) para clasificar los tipos de cáncer en función de la expresión génica. Para reducir el tiempo de cómputo, se seleccionan los 20 genes más significativos según el análisis ANOVA corregido por Benjamini-Hochberg en el paso anterior.\n",
        "\n",
        "Los modelos entrenados son:\n",
        "\n",
        "- **SVM con kernel lineal**: busca separar las clases con un hiperplano.\n",
        "- **SVM con kernel polinomial (grado 3)**: transforma los datos a un espacio no lineal de mayor dimensión.\n",
        "- **SVM con kernel RBF (Radial Basis Function)**: modelo no lineal que usa funciones de base radial para separar clases.\n",
        "\n",
        "Los datos se dividen en conjunto de entrenamiento (70%) y prueba (30%), manteniendo la proporción de clases con `stratify=y`. Se reportan las métricas de clasificación para cada modelo, lo que permitirá comparar su desempeño en el siguiente paso.\n"
      ],
      "metadata": {
        "id": "e9ilkJqev-nK"
      }
    },
    {
      "cell_type": "code",
      "source": [
        "from sklearn.model_selection import train_test_split\n",
        "from sklearn.svm import SVC\n",
        "from sklearn.metrics import classification_report\n",
        "\n",
        "# Usaremos los 20 genes más significativos según ANOVA (Benjamini-Hochberg)\n",
        "top_gene_indices = np.argsort(anova_p_values)[:20]\n",
        "top_gene_names = X.columns[top_gene_indices]\n",
        "\n",
        "# Filtrar X con solo esos genes\n",
        "X_reduced = X[top_gene_names]\n",
        "\n",
        "# Separar datos en entrenamiento y prueba\n",
        "X_train, X_test, y_train, y_test = train_test_split(X_reduced, y, test_size=0.3, random_state=42, stratify=y)\n",
        "\n",
        "# SVM con kernel lineal\n",
        "svm_linear = SVC(kernel='linear')\n",
        "svm_linear.fit(X_train, y_train)\n",
        "y_pred_linear = svm_linear.predict(X_test)\n",
        "print(\"SVM con kernel lineal:\")\n",
        "print(classification_report(y_test, y_pred_linear))\n",
        "\n",
        "# SVM con kernel polinomial grado 3\n",
        "svm_poly = SVC(kernel='poly', degree=3)\n",
        "svm_poly.fit(X_train, y_train)\n",
        "y_pred_poly = svm_poly.predict(X_test)\n",
        "print(\"SVM con kernel polinomial (grado 3):\")\n",
        "print(classification_report(y_test, y_pred_poly))\n",
        "\n",
        "# SVM con kernel radial (RBF)\n",
        "svm_rbf = SVC(kernel='rbf')\n",
        "svm_rbf.fit(X_train, y_train)\n",
        "y_pred_rbf = svm_rbf.predict(X_test)\n",
        "print(\"SVM con kernel RBF:\")\n",
        "print(classification_report(y_test, y_pred_rbf))\n"
      ],
      "metadata": {
        "colab": {
          "base_uri": "https://localhost:8080/"
        },
        "id": "uHVr1bz8v6g0",
        "outputId": "a08f292c-62d8-42db-84d3-38ca01ce7d86"
      },
      "execution_count": 6,
      "outputs": [
        {
          "output_type": "stream",
          "name": "stdout",
          "text": [
            "SVM con kernel lineal:\n",
            "              precision    recall  f1-score   support\n",
            "\n",
            "           1       1.00      1.00      1.00         3\n",
            "           2       1.00      1.00      1.00         9\n",
            "           3       1.00      1.00      1.00         5\n",
            "           4       1.00      1.00      1.00         8\n",
            "\n",
            "    accuracy                           1.00        25\n",
            "   macro avg       1.00      1.00      1.00        25\n",
            "weighted avg       1.00      1.00      1.00        25\n",
            "\n",
            "SVM con kernel polinomial (grado 3):\n",
            "              precision    recall  f1-score   support\n",
            "\n",
            "           1       1.00      1.00      1.00         3\n",
            "           2       1.00      0.89      0.94         9\n",
            "           3       1.00      1.00      1.00         5\n",
            "           4       0.89      1.00      0.94         8\n",
            "\n",
            "    accuracy                           0.96        25\n",
            "   macro avg       0.97      0.97      0.97        25\n",
            "weighted avg       0.96      0.96      0.96        25\n",
            "\n",
            "SVM con kernel RBF:\n",
            "              precision    recall  f1-score   support\n",
            "\n",
            "           1       1.00      1.00      1.00         3\n",
            "           2       1.00      1.00      1.00         9\n",
            "           3       1.00      1.00      1.00         5\n",
            "           4       1.00      1.00      1.00         8\n",
            "\n",
            "    accuracy                           1.00        25\n",
            "   macro avg       1.00      1.00      1.00        25\n",
            "weighted avg       1.00      1.00      1.00        25\n",
            "\n"
          ]
        }
      ]
    },
    {
      "cell_type": "markdown",
      "source": [
        "### Paso 5: Comparación de modelos SVM\n",
        "\n",
        "A continuación se comparan los resultados de los tres modelos de SVM entrenados:\n",
        "\n",
        "- **Kernel lineal**: obtuvo un desempeño perfecto en el conjunto de prueba, clasificando correctamente todas las muestras. Esto sugiere que los datos, al menos al reducirse a los 20 genes más relevantes, son linealmente separables.\n",
        "  \n",
        "- **Kernel polinomial (grado 3)**: aunque logró un alto desempeño general, cometió errores leves en la predicción de las clases 2 y 4. Esto puede deberse a una transformación innecesaria o incluso perjudicial del espacio de características, dado que el kernel lineal ya era suficiente.\n",
        "\n",
        "- **Kernel RBF (Radial)**: también obtuvo una precisión perfecta, similar al modelo lineal. Este tipo de kernel es más flexible y puede adaptarse a fronteras más complejas, aunque en este caso no ofreció una ventaja adicional.\n",
        "\n",
        "**Conclusión:** tanto el modelo con kernel **lineal** como el de **RBF** funcionaron muy bien, pero el lineal podría considerarse preferible por su menor complejidad y alta interpretabilidad. Esto indica que, al menos con esta selección de genes, el problema puede resolverse efectivamente con un modelo lineal.\n"
      ],
      "metadata": {
        "id": "bvxLYMz_wSLh"
      }
    }
  ]
}